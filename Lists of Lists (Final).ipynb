{
 "cells": [
  {
   "cell_type": "code",
   "execution_count": null,
   "metadata": {},
   "outputs": [],
   "source": [
    "# Review: Lists of Lists\n",
    "# Why is this lesson important ? b/c all these programming concepts presented below are\n",
    "#     necessary in order to implement multiple routes in the Zumi project we've been working on"
   ]
  },
  {
   "cell_type": "code",
   "execution_count": 3,
   "metadata": {},
   "outputs": [
    {
     "name": "stdout",
     "output_type": "stream",
     "text": [
      "route  1 : a->b->c->\n",
      "route  2 : i->j->k->\n",
      "route  3 : x->y->z->\n"
     ]
    }
   ],
   "source": [
    "# lists of lists \n",
    "\n",
    "route1 = ['a', 'b', 'c']\n",
    "route2 = ['i', 'j', 'k']\n",
    "route3 = ['x', 'y', 'z']\n",
    "\n",
    "          # ele 1  # ele 2  # ele 3 \n",
    "routes = [ route1, route2, route3 ] #List of Lists container\n",
    "\n",
    "#   len(routes)\n",
    "# A.) 0\n",
    "# B.) 2\n",
    "# C.) 3  # Answer\n",
    "# D.) inf\n",
    "\n",
    "num = 0\n",
    "while len(routes) > 0:\n",
    "    print(\"route \",num+1, \": \",end='')\n",
    "    currRoute = routes.pop(0)  # route1  -> route2  -> route3\n",
    "    \n",
    "    while len(currRoute) > 0:\n",
    "        currNode = currRoute.pop(0)\n",
    "        print(currNode + '->',end='')\n",
    "    \n",
    "    num+=1\n",
    "    print()\n",
    "    \n",
    "# what will be the order that it prints in if currRoute = routes.pop(0) ??\n",
    "# route 1 , route 2 , route 3\n",
    "# route 3 , route 2 , route 1\n",
    "# route 3 , route 1 , route 2\n",
    "\n",
    "\n",
    "\n",
    "# route 1:  a -> b -> c\n",
    "# route 2:  i -> j -> k\n",
    "# route 3:  x -> y -> z"
   ]
  },
  {
   "cell_type": "code",
   "execution_count": 5,
   "metadata": {},
   "outputs": [
    {
     "name": "stdout",
     "output_type": "stream",
     "text": [
      "How many routes do I want to run :2\n",
      "Starting Vertex: s\n",
      "Ending   Vertex: x\n",
      "Starting Vertex: x\n",
      "Ending   Vertex: b\n",
      "customer  1 : (s,x,)\n",
      "customer  2 : (x,b,)\n"
     ]
    }
   ],
   "source": [
    "numRoutes = input(\"How many routes do I want to run :\")\n",
    "numRoutes = int(numRoutes)\n",
    "\n",
    "\n",
    "# while or for loop to then ask the user for individual orders\n",
    "\n",
    "routes_arr = []\n",
    "\n",
    "for i in range(0, numRoutes):\n",
    "    first_item  = input(\"Starting Vertex: \")\n",
    "    second_item = input(\"Ending   Vertex: \")\n",
    "    \n",
    "    new_route = [first_item, second_item]\n",
    "    routes_arr.append(new_route)\n",
    "\n",
    "\n",
    "\n",
    "num = 0\n",
    "while len(routes_arr) > 0:\n",
    "    print(\"Route \",num+1, \": \",end='')\n",
    "    currRoute = routes_arr.pop(0)  # route1  -> route2  -> route3\n",
    "\n",
    "    print('(', end='')\n",
    "    while len(currRoute) > 0:\n",
    "        currItem = currRoute.pop(0)\n",
    "        print(currItem + ',',end='')\n",
    "    \n",
    "    print(')', end='')\n",
    "    num+=1\n",
    "    print()"
   ]
  },
  {
   "cell_type": "code",
   "execution_count": 11,
   "metadata": {},
   "outputs": [
    {
     "name": "stdout",
     "output_type": "stream",
     "text": [
      "Enter number of routes you want to run in Graph:  4\n",
      "Starting Vertex: a\n",
      "Ending   Vertex: b\n",
      "Next Vertex: d\n",
      "Next Vertex: c\n",
      "Next Vertex: e\n",
      "Route  1 : (a,b)\n",
      "Route  2 : (b,d)\n",
      "Route  3 : (d,c)\n",
      "Route  4 : (c,e)\n"
     ]
    }
   ],
   "source": [
    "# 3 routes \n",
    "\n",
    "# (A, B)\n",
    "# (B, input )   -> (B , C)\n",
    "# (C, input )   -> (C,  D)\n",
    "\n",
    "\n",
    "# [A, B]  \n",
    "# [B, C]\n",
    "# [C, D]\n",
    "\n",
    "# user only entered A,B,C,D  once. They never entered B twice or C twice.\n",
    "\n",
    "numRoutes = input(\"Enter number of routes you want to run in Graph:  \")\n",
    "numRoutes = int(numRoutes)\n",
    "\n",
    "\n",
    "# while or for loop to then ask the user for individual orders\n",
    "\n",
    "routesArr = []\n",
    "\n",
    "startVertex  = input(\"Starting Vertex: \")\n",
    "endVertex    = input(\"Ending   Vertex: \")\n",
    "routesArr.append([startVertex,endVertex])\n",
    "\n",
    "for i in range(0, numRoutes-1):\n",
    "    newRoute   = [endVertex]\n",
    "    endVertex = input(\"Next Vertex: \")\n",
    "    newRoute.append(endVertex)\n",
    "    routesArr.append(newRoute)\n",
    "\n",
    "\n",
    "num = 0\n",
    "while len(routesArr) > 0:\n",
    "    print(\"Route \",num+1, \": \",end='')\n",
    "    currRoute = routesArr.pop(0)  # route1  -> route2  -> route3\n",
    "\n",
    "    print('(', end='')\n",
    "    while len(currRoute) > 0:\n",
    "        currItem = currRoute.pop(0)\n",
    "        if len(currRoute) != 0:\n",
    "            print(currItem + ',',end='')\n",
    "        else:\n",
    "            print(currItem ,end='')\n",
    "    \n",
    "    print(')', end='')\n",
    "    num+=1\n",
    "    print()"
   ]
  },
  {
   "cell_type": "code",
   "execution_count": null,
   "metadata": {},
   "outputs": [],
   "source": []
  },
  {
   "cell_type": "code",
   "execution_count": null,
   "metadata": {},
   "outputs": [],
   "source": []
  }
 ],
 "metadata": {
  "kernelspec": {
   "display_name": "Python 3",
   "language": "python",
   "name": "python3"
  },
  "language_info": {
   "codemirror_mode": {
    "name": "ipython",
    "version": 3
   },
   "file_extension": ".py",
   "mimetype": "text/x-python",
   "name": "python",
   "nbconvert_exporter": "python",
   "pygments_lexer": "ipython3",
   "version": "3.5.3"
  }
 },
 "nbformat": 4,
 "nbformat_minor": 2
}
