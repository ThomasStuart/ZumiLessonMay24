{
 "cells": [
  {
   "cell_type": "code",
   "execution_count": null,
   "metadata": {},
   "outputs": [],
   "source": [
    "# Review: Lists of Lists\n",
    "# Why is this lesson important ? b/c all these programming concepts presented below are\n",
    "#     necessary in order to implement multiple routes in the Zumi project we've been working on"
   ]
  },
  {
   "cell_type": "code",
   "execution_count": 11,
   "metadata": {},
   "outputs": [
    {
     "name": "stdout",
     "output_type": "stream",
     "text": [
      "route  1 : a->b->c->\n",
      "route  2 : i->j->k->\n",
      "route  3 : x->y->z->\n"
     ]
    }
   ],
   "source": [
    "# lists of lists \n",
    "\n",
    "route1 = ['a', 'b', 'c']\n",
    "route2 = ['i', 'j', 'k']\n",
    "route3 = ['x', 'y', 'z']\n",
    "\n",
    "          # ele 1  # ele 2  # ele 3 \n",
    "routes = [ route1, route2, route3 ]\n",
    "\n",
    "#   len(routes)\n",
    "# A.) 0\n",
    "# B.) 2\n",
    "# C.) 3  # Answer\n",
    "# D.) inf\n",
    "\n",
    "num = 0\n",
    "while len(routes) > 0:\n",
    "    print(\"route \",num+1, \": \",end='')\n",
    "    currRoute = routes.pop(0)  # route1  -> route2  -> route3\n",
    "    \n",
    "    while len(currRoute) > 0:\n",
    "        currNode = currRoute.pop(0)\n",
    "        print(currNode + '->',end='')\n",
    "    \n",
    "    num+=1\n",
    "    print()\n",
    "    \n",
    "# what will be the order that it prints in if currRoute = routes.pop(0) ??\n",
    "# route 1 , route 2 , route 3\n",
    "# route 3 , route 2 , route 1\n",
    "# route 3 , route 1 , route 2\n",
    "\n",
    "\n",
    "\n",
    "# route 1:  a -> a -> c\n",
    "# route 2:  i -> j -> k\n",
    "# route 3:  x -> y -> z"
   ]
  },
  {
   "cell_type": "code",
   "execution_count": 15,
   "metadata": {},
   "outputs": [
    {
     "name": "stdout",
     "output_type": "stream",
     "text": [
      "How many orders:1\n",
      "Enter item 1: hamburger\n",
      "Enter item 2: hot-dog\n",
      "customer  1 : (hamburger,hot-dog,)\n"
     ]
    }
   ],
   "source": [
    "orders = input(\"How many orders:\")\n",
    "orders = int(orders)\n",
    "\n",
    "\n",
    "# while or for loop to then ask the user for individual orders\n",
    "\n",
    "order_arr = []\n",
    "\n",
    "for i in range(0, orders):\n",
    "    first_item  = input(\"Enter item 1: \")\n",
    "    second_item = input(\"Enter item 2: \")\n",
    "    \n",
    "    new_order = [first_item, second_item]\n",
    "    order_arr.append(new_order)\n",
    "\n",
    "\n",
    "\n",
    "num = 0\n",
    "while len(order_arr) > 0:\n",
    "    print(\"customer \",num+1, \": \",end='')\n",
    "    currOrder = order_arr.pop(0)  # route1  -> route2  -> route3\n",
    "\n",
    "    print('(', end='')\n",
    "    while len(currOrder) > 0:\n",
    "        currItem = currOrder.pop(0)\n",
    "        print(currItem + ',',end='')\n",
    "    \n",
    "    print(')', end='')\n",
    "    num+=1\n",
    "    print()"
   ]
  },
  {
   "cell_type": "code",
   "execution_count": 20,
   "metadata": {},
   "outputs": [
    {
     "name": "stdout",
     "output_type": "stream",
     "text": [
      "How many orders:quit\n"
     ]
    },
    {
     "ename": "ValueError",
     "evalue": "invalid literal for int() with base 10: 'quit'",
     "output_type": "error",
     "traceback": [
      "\u001b[0;31m---------------------------------------------------------------------------\u001b[0m",
      "\u001b[0;31mValueError\u001b[0m                                Traceback (most recent call last)",
      "\u001b[0;32m<ipython-input-20-4d6d7011db4f>\u001b[0m in \u001b[0;36m<module>\u001b[0;34m\u001b[0m\n\u001b[1;32m     13\u001b[0m \u001b[0;34m\u001b[0m\u001b[0m\n\u001b[1;32m     14\u001b[0m \u001b[0morders\u001b[0m \u001b[0;34m=\u001b[0m \u001b[0minput\u001b[0m\u001b[0;34m(\u001b[0m\u001b[0;34m\"How many orders:\"\u001b[0m\u001b[0;34m)\u001b[0m\u001b[0;34m\u001b[0m\u001b[0m\n\u001b[0;32m---> 15\u001b[0;31m \u001b[0morders\u001b[0m \u001b[0;34m=\u001b[0m \u001b[0mint\u001b[0m\u001b[0;34m(\u001b[0m\u001b[0morders\u001b[0m\u001b[0;34m)\u001b[0m\u001b[0;34m\u001b[0m\u001b[0m\n\u001b[0m\u001b[1;32m     16\u001b[0m \u001b[0;34m\u001b[0m\u001b[0m\n\u001b[1;32m     17\u001b[0m \u001b[0;34m\u001b[0m\u001b[0m\n",
      "\u001b[0;31mValueError\u001b[0m: invalid literal for int() with base 10: 'quit'"
     ]
    }
   ],
   "source": [
    "# 3 customers   if the user gets tired they exit before 3 \n",
    "# customer 1: (hamburger, hot-dog, fries )\n",
    "# customer 2: (soda, hot-dog, )\n",
    "# quit \n",
    "\n",
    "\n",
    "# 10 customers   if the user gets tired they exit before 3 \n",
    "# customer 1: (hamburger, hot-dog)\n",
    "# customer 2: (soda, hot-dog)\n",
    "# customer 3: (fries, shake)\n",
    "# quit \n",
    "\n",
    "\n",
    "orders = input(\"How many orders:\")\n",
    "orders = int(orders)\n",
    "\n",
    "\n",
    "# while or for loop to then ask the user for individual orders\n",
    "\n",
    "order_arr = []\n",
    "\n",
    "for i in range(0, orders):\n",
    "    first_item  = input(\"Enter item 1: \")\n",
    "    second_item = input(\"Enter item 2: \")\n",
    "    third_item  = input(\"Enter item 3: \")\n",
    "    \n",
    "    if (\"quit\" == first_item) or (\"quit\" == second_item) or (\"quit\" == third_item):\n",
    "        break\n",
    "    \n",
    "    new_order = [first_item, second_item, third_item]\n",
    "    order_arr.append(new_order)\n",
    "\n",
    "\n",
    "\n",
    "num = 0\n",
    "while len(order_arr) > 0:\n",
    "    print(\"customer \",num+1, \": \",end='')\n",
    "    currOrder = order_arr.pop(0)  # route1  -> route2  -> route3\n",
    "\n",
    "    print('(', end='')\n",
    "    while len(currOrder) > 0:\n",
    "        currItem = currOrder.pop(0)\n",
    "        print(currItem + ',',end='')\n",
    "    \n",
    "    print(')', end='')\n",
    "    num+=1\n",
    "    print()"
   ]
  },
  {
   "cell_type": "code",
   "execution_count": null,
   "metadata": {},
   "outputs": [],
   "source": []
  }
 ],
 "metadata": {
  "kernelspec": {
   "display_name": "Python 3",
   "language": "python",
   "name": "python3"
  },
  "language_info": {
   "codemirror_mode": {
    "name": "ipython",
    "version": 3
   },
   "file_extension": ".py",
   "mimetype": "text/x-python",
   "name": "python",
   "nbconvert_exporter": "python",
   "pygments_lexer": "ipython3",
   "version": "3.5.3"
  }
 },
 "nbformat": 4,
 "nbformat_minor": 2
}
